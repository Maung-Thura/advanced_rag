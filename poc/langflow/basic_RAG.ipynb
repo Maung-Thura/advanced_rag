{
 "cells": [
  {
   "cell_type": "markdown",
   "source": [
    "Example from https://www.youtube.com/watch?v=rz40ukZ3krQ"
   ],
   "metadata": {
    "collapsed": false
   },
   "id": "977198b298002007"
  },
  {
   "cell_type": "code",
   "execution_count": null,
   "outputs": [],
   "source": [
    "!pyenv install 3.10.0"
   ],
   "metadata": {
    "collapsed": false
   },
   "id": "394d3b12ac30e637"
  },
  {
   "cell_type": "code",
   "execution_count": null,
   "outputs": [],
   "source": [
    "!pip3 install --upgrade pip"
   ],
   "metadata": {
    "collapsed": false
   },
   "id": "7f9e78ccd9c200e1"
  },
  {
   "cell_type": "code",
   "execution_count": null,
   "outputs": [],
   "source": [
    "!pip3 install langflow --pre --force-reinstall"
   ],
   "metadata": {
    "collapsed": false
   },
   "id": "b4884dc3e171a8cf"
  },
  {
   "cell_type": "code",
   "execution_count": null,
   "outputs": [],
   "source": [
    "# embed langflow in application\n",
    "from langflow.load import run_flow_from_json\n",
    "TWEAKS = {\n",
    "  \"TextInput-d9uWe\": {},\n",
    "  \"Prompt-pXJUm\": {},\n",
    "  \"ChatInput-V3GiW\": {},\n",
    "  \"MemoryComponent-92uim\": {},\n",
    "  \"OpenAIModel-LNdHO\": {},\n",
    "  \"ChatOutput-xhZQ6\": {},\n",
    "  \"AstraDB-xeAMv\": {},\n",
    "  \"OpenAIEmbeddings-mlo75\": {},\n",
    "  \"File-bjRrw\": {},\n",
    "  \"SplitText-QqwIs\": {},\n",
    "  \"AstraDBSearch-0nsMH\": {}\n",
    "}\n",
    "\n",
    "result = run_flow_from_json(flow=\"langflow_open_ai_astra_db_tutorial_work.json\",\n",
    "                            input_value=\"Please explain CLIP experiment short and simple.\",\n",
    "                            tweaks=TWEAKS)\n",
    "\n",
    "print (result)"
   ],
   "metadata": {
    "collapsed": false
   },
   "id": "4c26817e632b2bb6"
  },
  {
   "cell_type": "code",
   "execution_count": 4,
   "outputs": [
    {
     "name": "stdout",
     "output_type": "stream",
     "text": [
      "Traceback (most recent call last):\r\n",
      "  File \"/Users/maungthura2024/Documents/GitHub/advanced_rag_team_triad/venv/bin/langflow\", line 5, in <module>\r\n",
      "    from langflow.__main__ import main\r\n",
      "ModuleNotFoundError: No module named 'langflow.__main__'\r\n"
     ]
    }
   ],
   "source": [
    "!langflow run"
   ],
   "metadata": {
    "collapsed": false,
    "ExecuteTime": {
     "end_time": "2024-05-13T21:20:20.965769Z",
     "start_time": "2024-05-13T21:20:20.818651Z"
    }
   },
   "id": "1cc317dc5919810b"
  },
  {
   "cell_type": "code",
   "execution_count": null,
   "outputs": [],
   "source": [],
   "metadata": {
    "collapsed": false
   },
   "id": "dc6e64287a522357"
  }
 ],
 "metadata": {
  "kernelspec": {
   "display_name": "Python 3",
   "language": "python",
   "name": "python3"
  },
  "language_info": {
   "codemirror_mode": {
    "name": "ipython",
    "version": 2
   },
   "file_extension": ".py",
   "mimetype": "text/x-python",
   "name": "python",
   "nbconvert_exporter": "python",
   "pygments_lexer": "ipython2",
   "version": "2.7.6"
  }
 },
 "nbformat": 4,
 "nbformat_minor": 5
}
