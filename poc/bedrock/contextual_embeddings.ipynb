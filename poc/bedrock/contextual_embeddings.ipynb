{
  "nbformat": 4,
  "nbformat_minor": 0,
  "metadata": {
    "colab": {
      "provenance": []
    },
    "kernelspec": {
      "name": "python3",
      "display_name": "Python 3"
    },
    "language_info": {
      "name": "python"
    }
  },
  "cells": [
    {
      "cell_type": "markdown",
      "source": [
        "# Libraries"
      ],
      "metadata": {
        "id": "mB54ZCnXNgWy"
      }
    },
    {
      "cell_type": "code",
      "execution_count": null,
      "metadata": {
        "id": "-NbIUgZH8p_j"
      },
      "outputs": [],
      "source": [
        "!pip install pdfplumber langchain\n",
        "!pip install langchain sentence_transformers"
      ]
    },
    {
      "cell_type": "markdown",
      "source": [
        "# Imports"
      ],
      "metadata": {
        "id": "VbUOWiVcNlkz"
      }
    },
    {
      "cell_type": "code",
      "source": [
        "import pdfplumber\n",
        "from langchain_text_splitters.character import RecursiveCharacterTextSplitter\n",
        "from langchain_community.embeddings import HuggingFaceEmbeddings\n",
        "import numpy as np"
      ],
      "metadata": {
        "id": "azka04I9HslY"
      },
      "execution_count": null,
      "outputs": []
    },
    {
      "cell_type": "markdown",
      "source": [
        "# Extract text from research paper pdf file"
      ],
      "metadata": {
        "id": "92rQYFt-NoDP"
      }
    },
    {
      "cell_type": "code",
      "source": [
        "file = pdfplumber.open('ahmadi24a.pdf')\n",
        "\n",
        "pages = []\n",
        "\n",
        "for page in file.pages:\n",
        "    pages.append(page.extract_text())"
      ],
      "metadata": {
        "id": "oarVMsu7LYMp"
      },
      "execution_count": null,
      "outputs": []
    },
    {
      "cell_type": "markdown",
      "source": [
        "# Split chunks and generate embeddings"
      ],
      "metadata": {
        "id": "rfMIWvNFN1pP"
      }
    },
    {
      "cell_type": "code",
      "source": [
        "text_splitter = RecursiveCharacterTextSplitter(\n",
        "    separators=[\"\\n\\n\", \"\\n\", \".\", \" \"],\n",
        "    chunk_size=1000,\n",
        "    chunk_overlap=100\n",
        ")\n",
        "\n",
        "hugging_face_embeddings = HuggingFaceEmbeddings()"
      ],
      "metadata": {
        "id": "V8CTZKj7M0aD"
      },
      "execution_count": null,
      "outputs": []
    },
    {
      "cell_type": "code",
      "source": [
        "documents = text_splitter.create_documents(pages)\n",
        "documents = [doc.page_content for doc in documents]"
      ],
      "metadata": {
        "id": "trweGij0wsTE"
      },
      "execution_count": null,
      "outputs": []
    },
    {
      "cell_type": "code",
      "source": [
        "len(documents)"
      ],
      "metadata": {
        "colab": {
          "base_uri": "https://localhost:8080/"
        },
        "id": "oerHEQvQRpHO",
        "outputId": "bf899c6f-d04a-497b-8240-62220b50dc0d"
      },
      "execution_count": null,
      "outputs": [
        {
          "output_type": "execute_result",
          "data": {
            "text/plain": [
              "42"
            ]
          },
          "metadata": {},
          "execution_count": 62
        }
      ]
    },
    {
      "cell_type": "code",
      "source": [
        "embeddings = hugging_face_embeddings.embed_documents(documents)\n",
        "embeddings = np.array(embeddings)\n",
        "embeddings.shape"
      ],
      "metadata": {
        "colab": {
          "base_uri": "https://localhost:8080/"
        },
        "id": "woFFf0nlPDL1",
        "outputId": "309894b1-cfeb-44cb-e75f-54cb09bc528d"
      },
      "execution_count": null,
      "outputs": [
        {
          "output_type": "execute_result",
          "data": {
            "text/plain": [
              "(42, 768)"
            ]
          },
          "metadata": {},
          "execution_count": 61
        }
      ]
    },
    {
      "cell_type": "markdown",
      "source": [
        "\n",
        "\n",
        "\n",
        "\n",
        "*   1 PDF\n",
        "*   42 Chunks\n",
        "*   42 x 728 Embeddings\n",
        "\n"
      ],
      "metadata": {
        "id": "at3iRiqBRvi9"
      }
    }
  ]
}